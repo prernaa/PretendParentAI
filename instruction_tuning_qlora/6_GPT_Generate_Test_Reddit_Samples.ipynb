{
 "cells": [
  {
   "cell_type": "code",
   "execution_count": 9,
   "id": "8074103a-3247-4628-9dd5-a839ac0970e8",
   "metadata": {},
   "outputs": [],
   "source": [
    "import os\n",
    "import time\n",
    "import json\n",
    "import pandas as pd\n",
    "from openai import OpenAI\n",
    "from transformers import AutoTokenizer\n",
    "from get_params import DATA_FOLDER, TEST_DATASET_FPATH\n",
    "\n",
    "## Get OpenAI Key\n",
    "with open(os.path.join(DATA_FOLDER, \"openai_key.txt\")) as f:\n",
    "    OPENAI_KEY = f.read().strip()\n",
    "\n",
    "\n",
    "## Get HF tokenizer\n",
    "with open(os.path.join(DATA_FOLDER, \"hftoken.txt\")) as f:\n",
    "    HF_TOKEN = f.read().strip()\n",
    "\n",
    "\n",
    "MODEL_NAME = \"gpt-4o\"\n",
    "MODEL_TEMPERATURE = 0.7 # we want variety for this task\n"
   ]
  },
  {
   "cell_type": "code",
   "execution_count": 2,
   "id": "e001a29f-afd8-444e-8088-b2af95d21b5b",
   "metadata": {},
   "outputs": [
    {
     "name": "stdout",
     "output_type": "stream",
     "text": [
      "Generate {n_posts} parenting posts related to the topic: '{topic}'.\n",
      "Each should be shaped like:\n",
      "{{\n",
      "  \"title\": \"<string>\",\n",
      "  \"body\": \"<string>\"\n",
      "}}\n",
      "Return them as a JSON object with key 'examples' containing a list of {n_posts} objects.\n",
      "\n"
     ]
    }
   ],
   "source": [
    "PARENTING_TOPICS = [\n",
    "    \"Potty training struggles\",\n",
    "    \"Toddler tantrums in public\",\n",
    "    \"Picky eating habits\",\n",
    "    \"Sleep regressions\",\n",
    "    \"Daycare drop-off anxiety\",\n",
    "    \"Screen time limits\",\n",
    "    \"Sibling rivalry\",\n",
    "    \"Starting kindergarten\",\n",
    "    \"Discipline disagreements with partner\",\n",
    "    \"Work-life balance as a parent\",\n",
    "    \"Fear of the dark\",\n",
    "    \"Transitioning to a toddler bed\",\n",
    "    \"Handling backtalk from kids\",\n",
    "    \"Dealing with picky eaters at family events\",\n",
    "    \"Explaining death to young children\",\n",
    "    \"Parenting without extended family support\",\n",
    "    \"Co-parenting after separation\",\n",
    "    \"Helping kids navigate friendships\",\n",
    "    \"When to start chores\",\n",
    "    \"Managing parent guilt and burnout\"\n",
    "]\n",
    "\n",
    "SYSTEM_PROMPT = \"\"\"You are generating ORIGINAL, Reddit-style parenting posts/questions.\n",
    "Audience: other parents you're seeking advice from.\n",
    "Rules:\n",
    "- No copying from the web; do not imitate a specific post.\n",
    "- Avoid brand/product plugs.\n",
    "- All posts should be about parenting children under the age of 18. No posts on adult parenting.\n",
    "- No real people or places; invent generic references (e.g., \"my 4yo\", \"our daycare\").\n",
    "- Tone: conversational, first-person, safe and respectful.\n",
    "- Return ONLY VALID JSON containing title and body. No extra text.\n",
    "- Title and body together should be at max 400 words. Shorter is fine.\n",
    "- If it makes sense to do so, focus on children of diverse ages across the posts. \n",
    "\"\"\"\n",
    "\n",
    "USER_PROMPT = \"\"\"Generate {n_posts} parenting posts related to the topic: '{topic}'.\n",
    "Each should be shaped like:\n",
    "{{\n",
    "  \"title\": \"<string>\",\n",
    "  \"body\": \"<string>\"\n",
    "}}\n",
    "Return them as a JSON object with key 'examples' containing a list of {n_posts} objects.\n",
    "\"\"\"\n",
    "\n",
    "print (USER_PROMPT)\n",
    "\n",
    "\n"
   ]
  },
  {
   "cell_type": "code",
   "execution_count": 6,
   "id": "5cea7b34-6ff6-4e3a-9302-2c08eb9ebcd8",
   "metadata": {
    "scrolled": true
   },
   "outputs": [
    {
     "name": "stdout",
     "output_type": "stream",
     "text": [
      "Generate 5 parenting posts related to the topic: 'Potty training struggles'.\n",
      "Each should be shaped like:\n",
      "{\n",
      "  \"title\": \"<string>\",\n",
      "  \"body\": \"<string>\"\n",
      "}\n",
      "Return them as a JSON object with key 'examples' containing a list of 5 objects.\n",
      "\n",
      "[{'title': '3-Year-Old Refuses to Use the Potty - Help!', 'body': \"Hey parents! I'm at my wit's end with my 3-year-old who's completely resistant to potty training. We've tried everything from sticker charts to big celebrations, and nothing seems to work. He just refuses to sit on the potty. Yesterday, he flat out told us, 'I like my diapers.' Any advice on how to make this transition smoother? What worked for your little ones?\"}, {'title': 'Nighttime Potty Training: Advice Needed', 'body': \"Hello! My 5-year-old is fully potty trained during the day, but nighttime is a whole different story. We've tried limiting drinks before bed and waking him up for a bathroom trip, but he still has accidents. Is this normal at his age? Would love to hear your experiences and any tips you might have!\"}, {'title': 'Potty Training Regression with New Baby', 'body': \"Hi all, my 4-year-old was doing great with potty training until we brought a new baby home. Now, she's having frequent accidents and asking for diapers again. I think she's seeking attention, but I'm not sure how to handle it without making her feel left out. Any suggestions on how to balance this?\"}, {'title': 'Potty Training Twins: Double the Trouble!', 'body': \"Hey everyone! I'm trying to potty train my 2.5-year-old twins, and it's been quite the adventure. One seems ready and interested, while the other runs away at the sight of a potty. How do you manage potty training with multiples? Any twin parents out there with tips?\"}, {'title': 'Public Restroom Anxiety During Potty Training', 'body': \"Hi folks! My 3-year-old is doing well with potty training at home, but she's terrified of public restrooms. The noise and automatic flushes really scare her. It's making outings quite challenging. Has anyone else dealt with this? How did you help your child feel more comfortable in public restrooms?\"}]\n",
      "Generate 5 parenting posts related to the topic: 'Toddler tantrums in public'.\n",
      "Each should be shaped like:\n",
      "{\n",
      "  \"title\": \"<string>\",\n",
      "  \"body\": \"<string>\"\n",
      "}\n",
      "Return them as a JSON object with key 'examples' containing a list of 5 objects.\n",
      "\n",
      "[{'title': 'Surviving Meltdowns at the Grocery Store', 'body': 'Hey parents! My 2-year-old has started having epic meltdowns every time we go grocery shopping. It’s usually over something random, like wanting to hold all the bananas. I try to distract or redirect, but it doesn’t always work. Any tips on managing these public tantrums without abandoning my cart entirely?'}, {'title': 'Toddler Tantrums at Restaurants: Help Needed!', 'body': 'My 3-year-old loves going out to eat, but the moment we sit down, it’s like a switch flips, and chaos ensues. We bring toys and snacks, but nothing seems to help. How do you handle restaurant tantrums? Is it better to stick it out or just do takeout until this phase passes?'}, {'title': 'Mall Meltdown Madness with My Toddler', 'body': \"My little one loves the mall, but every visit ends in a meltdown. Usually, it’s when it’s time to leave. I've tried giving warnings and setting timers, but no luck so far. Would love some advice on how to make these trips less stressful for both of us!\"}, {'title': 'Toddler Tantrums in the Park: Advice?', 'body': 'My 2.5-year-old has started throwing tantrums at the park, especially when it’s time to go home. I try giving 5-minute warnings, but it doesn’t help much. Have any of you found a magic trick for transitioning out of fun activities without a total meltdown?'}, {'title': 'Handling Public Tantrums at Family Gatherings', 'body': 'My 3-year-old often has tantrums during family events, usually when overstimulated or tired. It’s embarrassing and stressful. I try to calm them down, but it’s challenging with so many eyes on us. How do you deal with public tantrums when surrounded by family?'}]\n",
      "Generate 5 parenting posts related to the topic: 'Picky eating habits'.\n",
      "Each should be shaped like:\n",
      "{\n",
      "  \"title\": \"<string>\",\n",
      "  \"body\": \"<string>\"\n",
      "}\n",
      "Return them as a JSON object with key 'examples' containing a list of 5 objects.\n",
      "\n",
      "[{'title': 'Help! My 3yo only wants to eat beige foods', 'body': \"I’m at my wit’s end with my 3-year-old who seems to only want to eat beige foods like chicken nuggets, pasta, and crackers. I've tried introducing colorful veggies and fruits in fun shapes, but they get rejected every time. Any tips or tricks to diversify their diet without causing a meltdown?\"}, {'title': 'Teenager refusing to eat anything green', 'body': 'My 14-year-old has decided that anything green is the enemy. We’ve always encouraged healthy eating, but now they’re skipping veggies entirely. How do I address this without turning every meal into a battle?'}, {'title': \"5yo won't eat unless it's a 'snack'\", 'body': 'Our 5-year-old is going through a phase where they refuse to eat meals and only want snacks. I’ve tried making meals more appealing by cutting sandwiches into fun shapes, but it’s not working. Has anyone else dealt with this? Any creative ideas would be appreciated!'}, {'title': '12yo suddenly hates all their favorite foods', 'body': 'My 12-year-old has suddenly declared that they no longer like foods they used to love. It’s like their taste buds changed overnight. I’m struggling with meal planning now since I never know what will actually get eaten. Anyone else experienced this? How do you navigate these sudden changes?'}, {'title': 'Toddler won’t eat anything but yogurt', 'body': 'My 2-year-old is completely obsessed with yogurt and refuses to eat anything else. We’ve tried mixing fruits and veggies into it, but they seem to detect even the slightest change. Is this just a phase, or should I be concerned about their nutrition?'}]\n",
      "Generate 5 parenting posts related to the topic: 'Sleep regressions'.\n",
      "Each should be shaped like:\n",
      "{\n",
      "  \"title\": \"<string>\",\n",
      "  \"body\": \"<string>\"\n",
      "}\n",
      "Return them as a JSON object with key 'examples' containing a list of 5 objects.\n",
      "\n",
      "[{'title': 'Help! Our 4-month-old is suddenly not sleeping!', 'body': 'So our little one just hit 4 months and sleep has gone out the window. We were finally getting some longer stretches at night, but now she’s waking every couple of hours again. Is this the dreaded 4-month sleep regression? Any tips on surviving this phase?'}, {'title': '2-year-old’s sleep regression or just a phase?', 'body': 'Our toddler used to sleep through the night, but now she’s waking up multiple times and insists on being rocked back to sleep. We’ve tried a consistent bedtime routine, but nothing’s working. Is this a normal 2-year-old regression, or could something else be going on?'}, {'title': '8-month sleep regression: SOS', 'body': 'My 8-month-old has been waking up every hour the past week. We thought teething might be the cause, but even pain relief doesn’t help. Is this a typical sleep regression, and how long should we expect it to last? Any strategies that worked for you?'}, {'title': 'Sleep regression with a 5-year-old?', 'body': 'Our 5-year-old has been having trouble staying asleep and often comes into our room at night. This is new for us, as he used to sleep soundly. Could this be a regression, or perhaps anxiety about starting kindergarten? Looking for advice!'}, {'title': 'Teen sleep habits: Regression or normal?', 'body': 'My 13-year-old has been staying up way later than usual and waking up exhausted. We’ve tried setting a bedtime, but it’s a struggle. Is this a sleep regression for teens, or just typical teenage behavior? How do you handle it?'}]\n",
      "Generate 5 parenting posts related to the topic: 'Daycare drop-off anxiety'.\n",
      "Each should be shaped like:\n",
      "{\n",
      "  \"title\": \"<string>\",\n",
      "  \"body\": \"<string>\"\n",
      "}\n",
      "Return them as a JSON object with key 'examples' containing a list of 5 objects.\n",
      "\n",
      "[{'title': '3yo Cries Every Time We Drop Him Off at Daycare', 'body': \"Every morning, it's the same scene: tears, clinging, and a mini meltdown. Our 3yo has been going to the same daycare for a few months, but the drop-off hasn't gotten any easier. We've tried different routines, a comfort toy, even a special goodbye ritual, but nothing seems to help. Anyone else been through this? Any tips on making the transition smoother?\"}, {'title': 'Daycare Drop-Off Drama with My 2yo - Help!', 'body': \"My 2-year-old started daycare recently, and every drop-off is a struggle. She clings to me and cries, and it breaks my heart to leave her like that. I know she's fine after a few minutes, but it's really tough. How do you handle the guilt? Any strategies to make drop-offs less stressful for both of us?\"}, {'title': 'Switching Daycares and the Anxiety is Real', 'body': \"We had to switch daycares due to a move, and my 4yo is having a hard time adjusting. He was attached to his previous caregivers, and now drop-offs are filled with anxiety and tears. We've talked about the new experience being an adventure, but it doesn't seem to help much. How can I ease this transition for him?\"}, {'title': '1yo Hates Daycare Drop-Offs - Normal?', 'body': \"My little one just turned 1 and started daycare last month. Every morning, she cries when I leave, and I can't help but worry. Is this a typical phase, or should I be concerned? What are some things that have worked for you in comforting your child during daycare drop-offs?\"}, {'title': 'Twin Trouble: Daycare Drop-Off Woes', 'body': \"Dropping off my 3yo twins at daycare is a daily ordeal. One is usually okay, but the other gets really anxious and upset. I've tried staggering their drop-off times and giving extra cuddles, but it only helps a little. Any twin parents out there with advice on managing daycare anxiety for two little ones at once?\"}]\n",
      "Generate 5 parenting posts related to the topic: 'Screen time limits'.\n",
      "Each should be shaped like:\n",
      "{\n",
      "  \"title\": \"<string>\",\n",
      "  \"body\": \"<string>\"\n",
      "}\n",
      "Return them as a JSON object with key 'examples' containing a list of 5 objects.\n",
      "\n",
      "[{'title': 'Struggling with Screen Time Limits for My 3-Year-Old', 'body': \"Hey everyone, I'm having a hard time setting screen time boundaries for my 3-year-old. She loves watching her favorite shows, but I worry she's spending too much time in front of a screen. We've tried setting timers, but it ends in tears every time. Any tips on making this transition smoother?\"}, {'title': 'Teenager and Screen Time: How to Find a Balance?', 'body': \"My 15-year-old seems glued to their phone and laptop, especially with online school and social media. I'm concerned about the amount of screen time but also want to respect their need to connect with friends. How do you find a balance without becoming the 'bad guy'? Any advice or strategies that worked for you?\"}, {'title': 'Creative Alternatives to Screen Time for a 7-Year-Old', 'body': \"Looking for some fresh ideas to keep my 7-year-old entertained without screens. We've tried puzzles and board games, but they quickly lose interest. What are some creative activities or hobbies that have worked for your kids? Appreciate any suggestions!\"}, {'title': 'Setting Screen Time Limits for Siblings of Different Ages', 'body': \"I have a 5-year-old and a 10-year-old, and managing their screen time together is a challenge. They have different interests and attention spans, so I'm struggling to enforce rules that fit both. How do you handle screen time when you have kids of varying ages? Would love to hear your strategies!\"}, {'title': 'Screen Time and Homework: Striking the Right Balance', 'body': 'My 12-year-old often uses the tablet for homework and research, but it often leads to distractions and more screen time. How do you ensure that screen time for educational purposes stays productive? Any tips on monitoring or setting guidelines would be really helpful!'}]\n",
      "Generate 5 parenting posts related to the topic: 'Sibling rivalry'.\n",
      "Each should be shaped like:\n",
      "{\n",
      "  \"title\": \"<string>\",\n",
      "  \"body\": \"<string>\"\n",
      "}\n",
      "Return them as a JSON object with key 'examples' containing a list of 5 objects.\n",
      "\n",
      "[{'title': 'How to Handle Constant Bickering Between My Kids?', 'body': \"I've got a 6yo and an 8yo who just can't seem to get along for more than five minutes. It feels like they're always arguing over the smallest things, like who gets the blue cup or who sits where during breakfast. I've tried separating them, but that only works temporarily. Any tips on fostering a more peaceful relationship between them?\"}, {'title': 'Is Sibling Rivalry Normal for Toddlers?', 'body': \"I have a 3yo and a 1yo, and it seems like my older child is constantly trying to get my attention whenever I'm with the baby. It's like he’s regressing a bit—wanting to be held and using baby talk. Is this normal, and how can I help him feel more secure without giving in to every demand?\"}, {'title': 'Teen vs. Tween: How to Mediate Their Arguments?', 'body': 'Our 13yo and 10yo have started arguing a lot more recently. It seems to revolve around personal space and privacy. The older one wants more independence, while the younger still wants to tag along everywhere. How do I respect their developmental stages while maintaining some peace?'}, {'title': 'Creative Solutions for Sharing Toys?', 'body': 'I’ve got two kids, 5 and 7, and sharing toys is a constant battle. They both have their favorites, and it’s like WWIII when they want the same thing at the same time. Has anyone found creative solutions to encourage sharing that actually work?'}, {'title': 'Balancing Attention with a New Baby in the House', 'body': \"We just welcomed a new baby, and our 4yo is acting out more than usual. I think it's due to the attention shift. I want to make sure she feels included and loved while managing the needs of a newborn. Any advice on how to balance attention between siblings when a new baby arrives?\"}]\n",
      "Generate 5 parenting posts related to the topic: 'Starting kindergarten'.\n",
      "Each should be shaped like:\n",
      "{\n",
      "  \"title\": \"<string>\",\n",
      "  \"body\": \"<string>\"\n",
      "}\n",
      "Return them as a JSON object with key 'examples' containing a list of 5 objects.\n",
      "\n",
      "[{'title': 'Kindergarten Transition Worries', 'body': \"My daughter is starting kindergarten next week, and I'm feeling all sorts of emotions. She’s excited, but I'm worried about how she'll handle the long days and making new friends. Any tips for preparing her (and myself) for this big change?\"}, {'title': 'Kindergarten Lunch Packing Tips?', 'body': 'My 5yo is starting kindergarten soon, and I’m trying to figure out the best lunch options. I want to pack healthy meals that she’ll actually eat. Any suggestions from seasoned parents on what works for your kids?'}, {'title': 'How to Handle Kindergarten Drop-Off', 'body': 'My son starts kindergarten next month, and I’m dreading the drop-off tears. He’s quite attached, and I’m not sure how to make the separation easier for both of us. Would love to hear what’s worked for others.'}, {'title': 'Preparing for Kindergarten: Skills to Focus On', 'body': 'My little one is gearing up for kindergarten, and I’m curious about the skills we should focus on. Besides the basics like letters and numbers, what other social or practical skills should we work on to ensure she’s ready?'}, {'title': 'Kindergarten Supply List Overload!', 'body': 'Just got the supply list for my son’s kindergarten class, and it’s overwhelming. Do I really need to get every single item, or is there flexibility? Any advice from parents who’ve navigated this before?'}]\n",
      "Generate 5 parenting posts related to the topic: 'Discipline disagreements with partner'.\n",
      "Each should be shaped like:\n",
      "{\n",
      "  \"title\": \"<string>\",\n",
      "  \"body\": \"<string>\"\n",
      "}\n",
      "Return them as a JSON object with key 'examples' containing a list of 5 objects.\n",
      "\n",
      "[{'title': 'Discipline Disagreements with My Partner Over Our 3-Year-Old', 'body': 'Hey everyone, I’m struggling with how my partner and I handle discipline for our 3-year-old. I prefer using time-outs and gentle reminders, while my partner thinks a firmer approach with consequences is more effective. We both want the best for our little one, but it’s causing some tension. How do you find common ground when you and your partner have different discipline styles?'}, {'title': 'Different Views on Punishment for Our Tween', 'body': 'Hi all, my partner and I are clashing over how to discipline our 11-year-old. I’m more lenient, believing in natural consequences, whereas my partner insists on stricter rules and punishments. It’s starting to create a divide between us. Has anyone else been through this with tweens? How do you compromise on discipline strategies?'}, {'title': 'Struggling with Discipline Agreement for Our Teen', 'body': \"Hello! So, my 15-year-old has been testing boundaries a lot lately, and my partner and I can't seem to agree on the best way to handle it. I think giving more responsibility might help, but my partner feels that tightening the reins is necessary. Any advice on how to navigate these discipline disagreements without undermining each other?\"}, {'title': 'Partner and I Can’t Agree on Toddler Discipline', 'body': 'Hello parents! We have a 2-year-old who’s just discovered the art of tantrums. I’m all for distraction and redirection, but my partner believes in setting clear rules and sticking to them. Our different approaches are starting to clash and I don’t want it to affect our kiddo. Tips on bridging this discipline gap?'}, {'title': 'Discipline Differences for Our 8-Year-Old', 'body': 'Hi everyone, my partner and I are at odds on how to discipline our 8-year-old. I’m okay with letting him learn from his mistakes, but my partner is more about structured consequences. It’s a constant back-and-forth, and I’m worried it’s confusing him. How do you align your discipline methods to avoid sending mixed messages?'}]\n",
      "Generate 5 parenting posts related to the topic: 'Work-life balance as a parent'.\n",
      "Each should be shaped like:\n",
      "{\n",
      "  \"title\": \"<string>\",\n",
      "  \"body\": \"<string>\"\n",
      "}\n",
      "Return them as a JSON object with key 'examples' containing a list of 5 objects.\n",
      "\n",
      "[{'title': 'Juggling Work-from-Home with a Toddler', 'body': \"Hey everyone! I'm currently working from home with my very energetic 2-year-old. My partner is out for most of the day, and I'm struggling to keep up with work and give my little one the attention they need. Any tips on balancing work calls with toddler playtime? How do you all manage to stay productive without compromising on quality time?\"}, {'title': \"Managing Teenagers' Schedules with a Full-Time Job\", 'body': \"Hi all, I have two teenagers with packed schedules—sports, clubs, and social activities. It's becoming a real challenge to coordinate everything with my full-time job. I feel like I'm constantly rushing and can't be present for everything. How do you prioritize or negotiate time with your teens without feeling like you're letting them down?\"}, {'title': 'Finding Time for Myself Amidst Parenting and Work', 'body': \"Hello! I'm a parent of a 7-year-old and an 11-year-old, and I'm finding it hard to carve out any 'me' time. Between work and parenting duties, I feel like I'm running on empty. How do you all manage to find time for self-care or hobbies? Any creative solutions that have worked for you?\"}, {'title': 'Balancing Shift Work and Family Time', 'body': 'Hey parents, I work shifts and it’s really affecting my family time. Some days I’m gone before the kids wake up, and other days I’m home late. I feel guilty missing out on bedtime stories and dinners. How do you maintain family connections with such an unpredictable schedule?'}, {'title': 'Returning to Work After Parental Leave', 'body': \"Hi all, I'm going back to work next week after being on parental leave with my 8-month-old. I'm feeling anxious about leaving them at daycare and balancing work responsibilities. Any advice on easing this transition for both me and my baby? How did you cope with the emotional side of returning to work?\"}]\n",
      "Generate 5 parenting posts related to the topic: 'Fear of the dark'.\n",
      "Each should be shaped like:\n",
      "{\n",
      "  \"title\": \"<string>\",\n",
      "  \"body\": \"<string>\"\n",
      "}\n",
      "Return them as a JSON object with key 'examples' containing a list of 5 objects.\n",
      "\n",
      "[{'title': 'How to Help My 5-Year-Old Overcome Fear of the Dark?', 'body': 'My 5-year-old has recently become terrified of the dark. She insists on multiple nightlights and still wakes up scared. We’ve tried a bedtime routine with stories and a small lamp, but it doesn’t seem to help. Any tips on how to ease her fear?'}, {'title': 'Nighttime Fears in My 8-Year-Old: Strategies?', 'body': 'My 8-year-old son has started expressing fear of the dark, which never used to be an issue. He says he imagines monsters in his room. I’ve tried talking to him about it, but he still struggles to sleep. How can I help him feel safer at night?'}, {'title': '2-Year-Old Suddenly Afraid of the Dark', 'body': 'Our 2-year-old, who used to sleep fine, now cries when the lights go out. We’ve added a soft nightlight, but he’s still uneasy. It seems too early to have a conversation about what’s scaring him. Any ideas on what might help him feel more secure?'}, {'title': 'Teenager Afraid of the Dark: Is This Normal?', 'body': 'My 14-year-old daughter recently admitted she’s scared of the dark. She’s been using her phone flashlight to fall asleep. I’m not sure if this is typical at her age. Should I be concerned, or is this a phase that some teens go through?'}, {'title': 'Creative Solutions for a 6-Year-Old’s Fear of the Dark', 'body': 'I’m looking for creative ways to help my 6-year-old daughter with her fear of the dark. We’ve tried nightlights and bedtime stories, but she’s still anxious. Has anyone tried any fun or imaginative methods that worked for their kids?'}]\n",
      "Generate 5 parenting posts related to the topic: 'Transitioning to a toddler bed'.\n",
      "Each should be shaped like:\n",
      "{\n",
      "  \"title\": \"<string>\",\n",
      "  \"body\": \"<string>\"\n",
      "}\n",
      "Return them as a JSON object with key 'examples' containing a list of 5 objects.\n",
      "\n",
      "[{'title': 'Transitioning to a Toddler Bed: What Worked for Us?', 'body': \"Hey folks, we just moved our 2.5-year-old to a toddler bed, and it's been a chaotic week. She's super excited but keeps getting up multiple times a night. We've tried a nightlight and a bedtime story routine, but she's still restless. Any tips on how to make this transition smoother?\"}, {'title': 'Is It Too Soon for a Toddler Bed?', 'body': 'Hi everyone! Our little guy just turned 18 months, and he’s climbing out of his crib. We’re considering moving him to a toddler bed but worried it might be too soon. Did anyone else make the switch around this age? How did it go for you?'}, {'title': 'Dealing with Freedom: How to Keep My Toddler in Bed?', 'body': \"Our 3-year-old recently moved to a toddler bed, and now she thinks it's party time every night. She gets up to play or comes to our room. We've tried a sticker chart for staying in bed, but no luck yet. What strategies have worked for your kids?\"}, {'title': 'Need Advice on Toddler Bed Setup', 'body': \"Hello! We’re setting up our son's first toddler bed and wonder about the best layout. Should we keep it close to the wall or in the middle of the room? And how do you handle safety if they roll out? Any tips would be great!\"}, {'title': 'Making the Toddler Bed Transition Fun!', 'body': 'Hi all! We’re moving our daughter to a toddler bed soon. I want to make it an exciting experience for her. Any creative ideas for decorating or involving her in the process? I’d love to hear what made it special for your little ones!'}]\n",
      "Generate 5 parenting posts related to the topic: 'Handling backtalk from kids'.\n",
      "Each should be shaped like:\n",
      "{\n",
      "  \"title\": \"<string>\",\n",
      "  \"body\": \"<string>\"\n",
      "}\n",
      "Return them as a JSON object with key 'examples' containing a list of 5 objects.\n",
      "\n",
      "[{'title': '7yo Suddenly Talking Back - Normal or a Phase?', 'body': \"Hey everyone, my 7-year-old has recently started talking back quite a bit. It's like overnight they developed a bit of an attitude! I'm not sure if it's just a phase or something I should address more seriously. How do you all handle backtalk at this age? Is it better to ignore it or should I be setting stricter boundaries? Any advice or experiences would be super helpful!\"}, {'title': 'Tween Backtalk: Need Strategies!', 'body': \"My 11-year-old has been really pushing my buttons lately with their backtalk. It's getting to the point where every request or rule is met with a snarky comment or eye roll. I'm trying to stay calm and set a good example, but it's tough! What strategies have worked for you in dealing with backtalk in tweens? Looking for some effective ways to maintain respect but also understand their need for independence.\"}, {'title': '4yo Backtalk: How to React?', 'body': 'Hi everyone, I’m struggling with my 4-year-old who has started using some pretty sassy language. I’m not sure if they’re picking it up from TV or daycare, but I want to nip it in the bud. How do you approach backtalk with kids this young? Any gentle methods to encourage better communication would be great!'}, {'title': 'Handling Backtalk from My Teenager', 'body': \"My 15-year-old has been responding with a lot of backtalk lately, and I’m finding it hard to keep my cool. I know it's probably part of being a teenager, but it’s really affecting our relationship. How can I encourage more respectful communication without escalating things? Would love to hear what’s worked for other parents of teens.\"}, {'title': 'Is My Approach to Backtalk Too Strict?', 'body': 'I tend to be pretty firm when my kids talk back, but lately, I’m wondering if I’m being too strict. I have a 9-year-old and a 6-year-old, and while I want to teach them respect, I also don’t want to shut down communication. How do you balance addressing backtalk with keeping the lines of communication open? Open to all suggestions!'}]\n",
      "Generate 5 parenting posts related to the topic: 'Dealing with picky eaters at family events'.\n",
      "Each should be shaped like:\n",
      "{\n",
      "  \"title\": \"<string>\",\n",
      "  \"body\": \"<string>\"\n",
      "}\n",
      "Return them as a JSON object with key 'examples' containing a list of 5 objects.\n",
      "\n",
      "[{'title': 'Navigating Family Dinners with a Picky Eater', 'body': \"Hey everyone! Our 6yo is super picky, and with family gatherings coming up, I’m worried about meal times. We don't want them to just eat bread rolls while everyone else enjoys the feast. How do you handle family events with a picky eater? Do you bring a separate meal or sneak in familiar foods? Any tips to keep it stress-free for everyone?\"}, {'title': 'Picky Eating and Holiday Dinners: Advice Needed!', 'body': \"Our 9-year-old has a very specific taste palette—mostly beige foods! With holiday dinners approaching, I'm dreading the comments from family about their eating habits. How do you manage picky eaters in these situations? Do you prep your family in advance or focus on just keeping your child comfortable?\"}, {'title': 'Making Family Events Enjoyable for a Picky Toddler', 'body': \"Hi all, I need advice on dealing with my 3yo's picky eating at family gatherings. They're in a phase of eating only pasta and fruit. How can I make sure they eat something without the stress of a meltdown? Do you have strategies for integrating their preferences into big family meals?\"}, {'title': 'Avoiding Food Battles at Family Get-Togethers', 'body': 'Hey parents, our 5yo is a picky eater and family events often turn into battlegrounds over food. We want to avoid the negative vibes and make sure they still have fun. How do you handle the pressure from well-meaning relatives insisting they try everything? Any ways to keep the peace?'}, {'title': 'Picky Eating Strategies for Big Family Gatherings', 'body': \"Hello! We've got a 7yo who’s particular about what they eat, and with family reunions on the horizon, I'm looking for ways to make meal times less stressful. Do you bring backup snacks, or have you found ways to involve them in the meal prep to encourage trying new things? Thanks in advance!\"}]\n",
      "Generate 5 parenting posts related to the topic: 'Explaining death to young children'.\n",
      "Each should be shaped like:\n",
      "{\n",
      "  \"title\": \"<string>\",\n",
      "  \"body\": \"<string>\"\n",
      "}\n",
      "Return them as a JSON object with key 'examples' containing a list of 5 objects.\n",
      "\n",
      "[{'title': 'How to Explain Death to a 5-Year-Old?', 'body': \"My 5-year-old recently lost a pet fish, and I'm struggling with how to explain death to them. They keep asking when the fish will come back. I want to be honest but also gentle. How have you approached this topic with young kids without scaring them?\"}, {'title': \"Discussing a Grandparent's Passing with a 7-Year-Old\", 'body': 'My mom passed away last week, and my 7-year-old is asking a lot of questions. I want to help them understand but also respect their emotional capacity. Should I use metaphors, or is straightforward language better at this age?'}, {'title': 'Books or Resources for Talking About Death with Kids?', 'body': \"Looking for recommendations on books or resources to help discuss the concept of death with my 6-year-old. I've heard there are some great children's books that handle this topic sensitively. Any personal favorites or ones that worked well for your family?\"}, {'title': 'Explaining Death to a 3-Year-Old After a Family Loss', 'body': \"We recently lost a family member, and while my 3-year-old doesn't fully understand, they can sense the sadness. How do I approach explaining death to someone so young? Is it better to wait until they ask, or should I bring it up first?\"}, {'title': 'Handling Questions About Death from a Curious 8-Year-Old', 'body': 'My 8-year-old is suddenly very curious about death, asking questions about what happens when people die. I want to nurture their curiosity without overwhelming them. How do you balance giving enough information without going into too much detail?'}]\n",
      "Generate 5 parenting posts related to the topic: 'Parenting without extended family support'.\n",
      "Each should be shaped like:\n",
      "{\n",
      "  \"title\": \"<string>\",\n",
      "  \"body\": \"<string>\"\n",
      "}\n",
      "Return them as a JSON object with key 'examples' containing a list of 5 objects.\n",
      "\n",
      "[{'title': 'How do you find time for yourself without family nearby?', 'body': 'Hey fellow parents! I’m a mom to a lively 3-year-old and without any family close by to help out, I often feel overwhelmed. My partner and I try to give each other breaks, but it’s tough. How do you carve out personal time without family support? Any creative solutions?'}, {'title': 'Managing sick days without family help', 'body': 'My 7-year-old caught a bug from school, and I’m struggling to balance work and care without any family around. My spouse’s job isn’t flexible either. For those of you in similar situations, how do you handle kids being home sick when you have work commitments? Any tips would be appreciated!'}, {'title': 'Building a support network without family nearby', 'body': 'Hi everyone! We recently moved to a new city with our 10-year-old and don’t have any family nearby. I’m looking for ways to build a support network. How have you connected with other parents or found reliable babysitters in a new area? Any advice would be great!'}, {'title': 'Holiday stress without family support', 'body': \"I’m feeling the holiday stress creeping up. We don’t have family nearby, and I’m worried about making the holidays special for our kids (ages 5 and 8) without that extra help. How do you create memorable holidays when it’s just your immediate family? Any fun traditions you've started?\"}, {'title': 'Handling emergencies solo', 'body': 'Last week, I had to rush my 12-year-old to the ER after a soccer injury, and it hit me how much we rely on ourselves without extended family. Thankfully, everything’s okay, but I felt so alone in that moment. How do you prepare for emergencies when it’s just you and your partner?'}]\n",
      "Generate 5 parenting posts related to the topic: 'Co-parenting after separation'.\n",
      "Each should be shaped like:\n",
      "{\n",
      "  \"title\": \"<string>\",\n",
      "  \"body\": \"<string>\"\n",
      "}\n",
      "Return them as a JSON object with key 'examples' containing a list of 5 objects.\n",
      "\n",
      "[{'title': 'Balancing Schedules Without Losing My Mind', 'body': \"Hey fellow parents! My ex and I have been co-parenting our 9-year-old for about a year now. We try to stick to a schedule, but with both of us working and our kid's extracurriculars, it can get chaotic. How do you manage to keep everything organized? Any tips on apps or strategies to make communication smoother?\"}, {'title': 'Handling Different Parenting Styles', 'body': \"Co-parenting has been a rollercoaster with my ex. We have a 6-year-old and our parenting styles are pretty different. I'm more about structure, while they're more laid-back. It sometimes leads to confusion for our kid. Any advice on how to find a middle ground or communicate better about these differences?\"}, {'title': 'Introducing New Partners in a Co-parenting Scenario', 'body': \"Looking for some guidance here. My ex and I have been separated for a couple of years, and we're both in new relationships. We have a 12-year-old, and I want to ensure the transition is smooth if we introduce our new partners. Have any of you navigated this? What worked or didn't work for you?\"}, {'title': 'Dealing with Emotional Outbursts', 'body': \"Our 10-year-old has been having a tough time adjusting to our co-parenting arrangement. There have been more emotional outbursts lately, and I'm not sure how to help them feel more secure. Anyone gone through something similar? How did you support your child through the transition?\"}, {'title': 'Making Holidays Work', 'body': \"Holidays are coming up, and it's our first year co-parenting through them. We want to make sure our 8-year-old has a great experience without feeling torn between two households. How do you split holidays or create new traditions? Would love to hear how you make it special for your kids.\"}]\n",
      "Generate 5 parenting posts related to the topic: 'Helping kids navigate friendships'.\n",
      "Each should be shaped like:\n",
      "{\n",
      "  \"title\": \"<string>\",\n",
      "  \"body\": \"<string>\"\n",
      "}\n",
      "Return them as a JSON object with key 'examples' containing a list of 5 objects.\n",
      "\n",
      "[{'title': 'Teaching My 5-Year-Old About Sharing Without Tears', 'body': 'Hey fellow parents! My 5-year-old just started kindergarten and has been struggling with the concept of sharing toys with new friends. Every playdate seems to end in tears because they don’t want to share their favorite dinosaur set. How do you teach your little ones about sharing? Any tips for making it a positive experience instead of a meltdown?'}, {'title': 'Tween Drama: Helping My 11-Year-Old Navigate Friend Circles', 'body': \"My 11-year-old has recently been caught up in some friend drama at school. They’re feeling left out of their usual group and don’t know how to address it without making things worse. I want to help them handle this situation maturely, but I'm unsure how much to intervene. How do you encourage your tweens to deal with friendship issues? Any advice would be appreciated!\"}, {'title': 'Making Friends in a New School: Tips for my 8-Year-Old', 'body': 'We just moved to a new city, and my 8-year-old is struggling to make friends at their new school. They’re usually pretty outgoing, but this change has been tough. What are some ways I can support them in building new friendships? Have any of you been in a similar situation with your kids?'}, {'title': 'Helping My Teen Understand Healthy Friendships', 'body': 'My 15-year-old is going through a rough patch with a friend who seems to be pretty controlling. They’re torn between staying loyal and standing up for themselves. How do you talk to your teens about what makes a friendship healthy or toxic? Any conversation starters or book recommendations that could help?'}, {'title': 'Encouraging My 6-Year-Old to Include Others', 'body': \"Lately, I've noticed my 6-year-old tends to form tight-knit groups and unintentionally excludes other kids. I want to teach them about inclusivity and kindness. What strategies have you used to encourage your kids to be more inclusive? Are there any games or activities that help reinforce this behavior?\"}]\n",
      "Generate 5 parenting posts related to the topic: 'When to start chores'.\n",
      "Each should be shaped like:\n",
      "{\n",
      "  \"title\": \"<string>\",\n",
      "  \"body\": \"<string>\"\n",
      "}\n",
      "Return them as a JSON object with key 'examples' containing a list of 5 objects.\n",
      "\n",
      "[{'title': 'Is 3 Years Old Too Young for Basic Chores?', 'body': \"Hey, parents! I'm wondering if 3 is too young to start introducing some basic chores. My toddler loves helping out, and I’ve read that it’s good for their development. I was thinking simple tasks like putting toys away or wiping spills. How did you start with your little ones?\"}, {'title': 'Chores for a 10-Year-Old: How Much Is Too Much?', 'body': \"I've got a 10-year-old who’s been asking for more responsibilities (yay for initiative!). I’m just unsure how much is appropriate. We’ve done simple stuff like setting the table and feeding the pet, but I’m considering adding more. What are your 10-year-olds doing, and how do you balance it with school and play?\"}, {'title': 'Introducing Chores to a Teen: Tips Needed!', 'body': 'My 14-year-old has been less than enthusiastic about chores, and I’m struggling to motivate them. I know it’s important for building responsibility, but I also want to avoid constant battles. How do you handle chores with your teens? Any tips for making it less of a struggle?'}, {'title': 'Chore Chart for a 7-Year-Old: What Works?', 'body': 'Hi everyone! I’m considering a chore chart for my 7-year-old to help with routine and responsibility. Have any of you tried this? Do you offer rewards, or is the satisfaction of doing a good job enough? Any advice on what chores are age-appropriate would be amazing!'}, {'title': 'Chores for Siblings: Fair Distribution or Free-for-All?', 'body': 'I have an 8-year-old and a 12-year-old, and I’m trying to figure out the best way to distribute chores between them. Should I assign specific tasks or let them choose? I want to keep it fair but also make sure the chores get done. How do you handle chores with multiple kids?'}]\n",
      "Generate 5 parenting posts related to the topic: 'Managing parent guilt and burnout'.\n",
      "Each should be shaped like:\n",
      "{\n",
      "  \"title\": \"<string>\",\n",
      "  \"body\": \"<string>\"\n",
      "}\n",
      "Return them as a JSON object with key 'examples' containing a list of 5 objects.\n",
      "\n",
      "[{'title': \"Feeling Guilty for Needing 'Me Time' as a Parent\", 'body': \"Hey everyone, I'm a parent of a 6yo and a 3yo, and lately, I've been feeling really guilty about wanting some me time. I know self-care is important, but every time I take a moment for myself, I end up feeling selfish. How do you balance taking care of yourself while being there for your kids? Any tips on overcoming this guilt?\"}, {'title': 'Burnt Out from Working and Parenting', 'body': \"Hi all, I've been feeling completely burnt out managing a full-time job and parenting my two kids (9yo and 12yo). I want to be present for them, but by the end of the day, I feel like I have nothing left to give. How do you cope with burnout and ensure you're still a supportive parent?\"}, {'title': \"Single Parent Struggles: Guilt Over Being 'Enough'\", 'body': \"As a single parent of a 10yo, I constantly worry if I'm doing enough for my child. I sometimes feel guilty when I can't be there for every event or help with every homework question due to work commitments. How do other single parents manage this feeling of guilt and make sure their kids feel supported?\"}, {'title': 'Balancing Quality Time with Multiple Kids', 'body': \"I'm a parent to three kids (ages 7, 5, and 2), and I often feel guilty that I'm not spending enough quality time with each of them individually. I'm worried about them feeling left out or less important. How do other parents manage to divide attention fairly among multiple children without burning out?\"}, {'title': 'Guilt from Using Screen Time for a Break', 'body': \"Hello! I have a 4yo who loves screen time, and sometimes I find myself using it as a way to get a break. While it helps me recharge a bit, I can't shake off the guilt of relying on screens. How do you all deal with the guilt of screen time, and are there alternatives that have worked for you?\"}]\n"
     ]
    }
   ],
   "source": [
    "client = OpenAI(api_key=OPENAI_KEY)\n",
    "\n",
    "# using the new client.responses.create endpoint that returns \n",
    "# we have 20 topics and generate 5 posts per topic, bringing total to 100\n",
    "\n",
    "all_posts = []\n",
    "topic_list = []\n",
    "N_POSTS_PER_REQ = 5\n",
    "for topic in PARENTING_TOPICS: \n",
    "    user_prompt_formatted = USER_PROMPT.format(n_posts=N_POSTS_PER_REQ, topic=topic)\n",
    "    print (user_prompt_formatted)\n",
    "    resp = client.responses.create(\n",
    "        model=MODEL_NAME,\n",
    "        temperature=MODEL_TEMPERATURE,\n",
    "        instructions=SYSTEM_PROMPT,\n",
    "        input=user_prompt_formatted,\n",
    "        text={\n",
    "            \"format\": {\n",
    "                \"type\": \"json_object\",\n",
    "            }\n",
    "        }\n",
    "    )\n",
    "    try:\n",
    "        parsed = json.loads(resp.output_text)\n",
    "        posts = parsed[\"examples\"]\n",
    "    except Exception as e:\n",
    "        print (e)\n",
    "    all_posts += posts\n",
    "    topic_list+= [topic]*N_POSTS_PER_REQ\n",
    "    print(posts)\n"
   ]
  },
  {
   "cell_type": "code",
   "execution_count": 7,
   "id": "cd6ac7b1-3039-4532-ab1b-0ed0ecbff1cf",
   "metadata": {},
   "outputs": [
    {
     "name": "stdout",
     "output_type": "stream",
     "text": [
      "100\n"
     ]
    }
   ],
   "source": [
    "print (len(all_posts))\n",
    "\n"
   ]
  },
  {
   "cell_type": "code",
   "execution_count": 12,
   "id": "bb93adff-4f74-48e2-aeb1-8fba8875706c",
   "metadata": {},
   "outputs": [
    {
     "data": {
      "text/plain": [
       "{'title': '3-Year-Old Refuses to Use the Potty - Help!',\n",
       " 'body': \"Hey parents! I'm at my wit's end with my 3-year-old who's completely resistant to potty training. We've tried everything from sticker charts to big celebrations, and nothing seems to work. He just refuses to sit on the potty. Yesterday, he flat out told us, 'I like my diapers.' Any advice on how to make this transition smoother? What worked for your little ones?\"}"
      ]
     },
     "execution_count": 12,
     "metadata": {},
     "output_type": "execute_result"
    }
   ],
   "source": [
    "all_posts[0]"
   ]
  },
  {
   "cell_type": "code",
   "execution_count": 53,
   "id": "959262d3-91f4-4276-988c-87c0bd150601",
   "metadata": {},
   "outputs": [],
   "source": [
    "# Format user_prompt as title - body and output to file\n",
    "title_list = []\n",
    "body_list = []\n",
    "for post in all_posts:\n",
    "    title_list.append(post['title'])\n",
    "    body_list.append(post['body'])\n",
    "\n"
   ]
  },
  {
   "cell_type": "code",
   "execution_count": 54,
   "id": "7a7c8d97-bef6-4d70-bec6-d8216f11939c",
   "metadata": {},
   "outputs": [],
   "source": [
    "def build_prompt(prompt):\n",
    "  return f'''<s>[INST] You are a friendly parenting companion who gives helpful advice like a fellow parent would. You sound warm and practical — not robotic or formal.\n",
    "Keep your answers under 150 words.\n",
    "Stay focused on the user’s question.\n",
    "Avoid Reddit-style responses like 'Edit:', smiley faces, or overly casual tone.\n",
    "User's Prompt: {prompt} [/INST]'''\n",
    "\n",
    "\n",
    "test_samples_df = pd.DataFrame({'title': title_list, 'body': body_list, 'topic': topic_list})\n",
    "test_samples_df['text'] = test_samples_df['title'] + ' - ' + test_samples_df['body']\n",
    "test_samples_df['prompt'] = test_samples_df['text'].apply(build_prompt)\n"
   ]
  },
  {
   "cell_type": "code",
   "execution_count": 55,
   "id": "334cb3e0-2b52-4029-acd3-a7bf0d7d06e1",
   "metadata": {},
   "outputs": [
    {
     "name": "stdout",
     "output_type": "stream",
     "text": [
      "3-Year-Old Refuses to Use the Potty - Help! - Hey parents! I'm at my wit's end with my 3-year-old who's completely resistant to potty training. We've tried everything from sticker charts to big celebrations, and nothing seems to work. He just refuses to sit on the potty. Yesterday, he flat out told us, 'I like my diapers.' Any advice on how to make this transition smoother? What worked for your little ones?\n",
      "<s>[INST] You are a friendly parenting companion who gives helpful advice like a fellow parent would. You sound warm and practical — not robotic or formal.\n",
      "Keep your answers under 150 words.\n",
      "Stay focused on the user’s question.\n",
      "Avoid Reddit-style responses like 'Edit:', smiley faces, or overly casual tone.\n",
      "User's Prompt: 3-Year-Old Refuses to Use the Potty - Help! - Hey parents! I'm at my wit's end with my 3-year-old who's completely resistant to potty training. We've tried everything from sticker charts to big celebrations, and nothing seems to work. He just refuses to sit on the potty. Yesterday, he flat out told us, 'I like my diapers.' Any advice on how to make this transition smoother? What worked for your little ones? [/INST]\n"
     ]
    }
   ],
   "source": [
    "print (test_samples_df['text'].iloc[0])\n",
    "\n",
    "print (test_samples_df['prompt'].iloc[0])"
   ]
  },
  {
   "cell_type": "code",
   "execution_count": 56,
   "id": "92e7d1f1-1e0c-4d84-a235-d9b11e915015",
   "metadata": {},
   "outputs": [],
   "source": [
    "# Compute number of mistral tokens to be sure that these aren't too long\n",
    "# TOKENIZER = AutoTokenizer.from_pretrained(\n",
    "#     \"mistralai/Mistral-7B-Instruct-v0.3\",\n",
    "#     token=HF_TOKEN\n",
    "# )\n",
    "\n",
    "TOKENIZER = AutoTokenizer.from_pretrained(\n",
    "    \"mistralai/Mistral-7B-Instruct-v0.3\",\n",
    "    add_bos_token=False,\n",
    "    add_eos_token=False,\n",
    "    token = HF_TOKEN\n",
    ")\n",
    "TOKENIZER.pad_token = TOKENIZER.eos_token\n",
    "\n",
    "\n",
    "def get_n_tokens_prompt(prompt):\n",
    "    tokens = TOKENIZER.encode(prompt)\n",
    "    return len(tokens)\n",
    "\n",
    "test_samples_df['prompt_ntokens_mistral'] = test_samples_df['prompt'].apply(get_n_tokens_prompt)\n",
    "\n",
    "\n",
    "    "
   ]
  },
  {
   "cell_type": "code",
   "execution_count": 57,
   "id": "c58dfd23-11fd-4431-96fc-79056e411cac",
   "metadata": {},
   "outputs": [
    {
     "data": {
      "text/plain": [
       "count    100.000000\n",
       "mean     166.220000\n",
       "std       11.372108\n",
       "min      142.000000\n",
       "25%      158.750000\n",
       "50%      165.500000\n",
       "75%      174.000000\n",
       "max      199.000000\n",
       "Name: prompt_ntokens_mistral, dtype: float64"
      ]
     },
     "metadata": {},
     "output_type": "display_data"
    }
   ],
   "source": [
    "display(\n",
    "    test_samples_df['prompt_ntokens_mistral'].describe()\n",
    ")"
   ]
  },
  {
   "cell_type": "code",
   "execution_count": 58,
   "id": "c50984d1-b469-42d4-a94d-6fdceac96e67",
   "metadata": {},
   "outputs": [],
   "source": [
    "# display(test_samples_df.head(10))"
   ]
  },
  {
   "cell_type": "code",
   "execution_count": 59,
   "id": "93658bca-c272-486b-b349-da3424c9b262",
   "metadata": {},
   "outputs": [],
   "source": [
    "# Shuffle and apply test sample id, re-order columns for output\n",
    "test_samples_df = test_samples_df.sample(frac=1, random_state=42).reset_index(drop=True)\n",
    "test_samples_df[\"id\"] = [i+1 for i in range(len(test_samples_df))]\n",
    "\n",
    "cols = [\n",
    "    \"id\",\n",
    "    \"text\", \n",
    "    \"title\",\n",
    "    \"body\",\n",
    "    \"prompt_ntokens_mistral\",\n",
    "    \"topic\"\n",
    "]\n",
    "test_samples_df = test_samples_df[cols]\n",
    "\n"
   ]
  },
  {
   "cell_type": "code",
   "execution_count": 60,
   "id": "06fecfcf-7229-4772-8022-2123a8080fbd",
   "metadata": {},
   "outputs": [
    {
     "data": {
      "text/html": [
       "<div>\n",
       "<style scoped>\n",
       "    .dataframe tbody tr th:only-of-type {\n",
       "        vertical-align: middle;\n",
       "    }\n",
       "\n",
       "    .dataframe tbody tr th {\n",
       "        vertical-align: top;\n",
       "    }\n",
       "\n",
       "    .dataframe thead th {\n",
       "        text-align: right;\n",
       "    }\n",
       "</style>\n",
       "<table border=\"1\" class=\"dataframe\">\n",
       "  <thead>\n",
       "    <tr style=\"text-align: right;\">\n",
       "      <th></th>\n",
       "      <th>id</th>\n",
       "      <th>text</th>\n",
       "      <th>title</th>\n",
       "      <th>body</th>\n",
       "      <th>prompt_ntokens_mistral</th>\n",
       "      <th>topic</th>\n",
       "    </tr>\n",
       "  </thead>\n",
       "  <tbody>\n",
       "    <tr>\n",
       "      <th>0</th>\n",
       "      <td>1</td>\n",
       "      <td>Dealing with Emotional Outbursts - Our 10-year...</td>\n",
       "      <td>Dealing with Emotional Outbursts</td>\n",
       "      <td>Our 10-year-old has been having a tough time a...</td>\n",
       "      <td>158</td>\n",
       "      <td>Co-parenting after separation</td>\n",
       "    </tr>\n",
       "    <tr>\n",
       "      <th>1</th>\n",
       "      <td>2</td>\n",
       "      <td>Teenager Afraid of the Dark: Is This Normal? -...</td>\n",
       "      <td>Teenager Afraid of the Dark: Is This Normal?</td>\n",
       "      <td>My 14-year-old daughter recently admitted she’...</td>\n",
       "      <td>159</td>\n",
       "      <td>Fear of the dark</td>\n",
       "    </tr>\n",
       "  </tbody>\n",
       "</table>\n",
       "</div>"
      ],
      "text/plain": [
       "   id                                               text  \\\n",
       "0   1  Dealing with Emotional Outbursts - Our 10-year...   \n",
       "1   2  Teenager Afraid of the Dark: Is This Normal? -...   \n",
       "\n",
       "                                          title  \\\n",
       "0              Dealing with Emotional Outbursts   \n",
       "1  Teenager Afraid of the Dark: Is This Normal?   \n",
       "\n",
       "                                                body  prompt_ntokens_mistral  \\\n",
       "0  Our 10-year-old has been having a tough time a...                     158   \n",
       "1  My 14-year-old daughter recently admitted she’...                     159   \n",
       "\n",
       "                           topic  \n",
       "0  Co-parenting after separation  \n",
       "1               Fear of the dark  "
      ]
     },
     "metadata": {},
     "output_type": "display_data"
    }
   ],
   "source": [
    "display(test_samples_df.head(2))"
   ]
  },
  {
   "cell_type": "code",
   "execution_count": 61,
   "id": "9a3a0c37-176f-4bda-80e0-1793da78a3d3",
   "metadata": {},
   "outputs": [],
   "source": [
    "# output to file\n",
    "test_samples_df[cols].to_json(TEST_DATASET_FPATH, orient='records', lines=True)\n",
    "\n"
   ]
  },
  {
   "cell_type": "code",
   "execution_count": 62,
   "id": "9e2cddc9-09ba-42e3-8224-aa4fd2befa1e",
   "metadata": {},
   "outputs": [
    {
     "data": {
      "text/plain": [
       "['hello']"
      ]
     },
     "execution_count": 62,
     "metadata": {},
     "output_type": "execute_result"
    }
   ],
   "source": [
    "\"hello\".split()"
   ]
  },
  {
   "cell_type": "code",
   "execution_count": null,
   "id": "9527e6ff-19e6-4cc3-b632-44f10945083a",
   "metadata": {},
   "outputs": [],
   "source": []
  }
 ],
 "metadata": {
  "kernelspec": {
   "display_name": "Python 3 (ipykernel)",
   "language": "python",
   "name": "python3"
  },
  "language_info": {
   "codemirror_mode": {
    "name": "ipython",
    "version": 3
   },
   "file_extension": ".py",
   "mimetype": "text/x-python",
   "name": "python",
   "nbconvert_exporter": "python",
   "pygments_lexer": "ipython3",
   "version": "3.12.4"
  }
 },
 "nbformat": 4,
 "nbformat_minor": 5
}
